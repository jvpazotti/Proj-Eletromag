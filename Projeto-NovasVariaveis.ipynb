{
 "cells": [
  {
   "cell_type": "markdown",
   "metadata": {},
   "source": [
    "# Eletromagnetismo e Ondulatória - Projeto Final\n",
    "##  Simulações numéricas essenciais para transmissão de energia sem fio (WPT)\n",
    "\n",
    "### Integrantes \n",
    " - Gabriel Onishi\n",
    " - João Vitor Pazotti\n",
    " - Pedro Mahfuz\n",
    " - Sarah Pimenta\n",
    " \n",
    "## Objetivos \n",
    "Essa etapa do projeto visa simular computacionalmente o circuito elétrico a ser utilizado no projeto para encontrar os valores ótimos de montagem. Para tanto, dividiu-se essa parte do projeto em 5 outras:\n",
    "\n",
    "## Parte 1 - Elaboração do diagrama do modelo eletrodinâmico do circuito WPT\n",
    "O circuito a ser utilizado foi cedido pelos professores e seu diagrama eletrodinâmico está exposto na Imagem 1, abaixo.\n",
    "<img src=\"circuito_projeto.jpg\" style=\"padding: 20px\">\n",
    "<center>Imagem 1: Circuito do Projeto, montado no Ciruit Lab</center><br>\n",
    "Observa-se que o circuito se assemelha muito ao modelo de transformador elétrico apresentado em aula, exceto por capacitores no primário e no secundário. Esses componentes são utilizados nos dois circuitos com o mesmo propósito: maximizar a corrente através de uma corrente ressonante.<br>\n",
    "Para ilustrar esse conceito, pode-se utilizar um circuito RLC ordinário, como na Imagem 2:\n",
    "<img src=\"circuito_RLC.jpg\" style=\"padding: 20px\">\n",
    "<center>Imagem 2: Circuito RLC ordinário, montado no Ciruit Lab</center><br>\n",
    "Equacionando esse circuito, temos a seguinte equação:\n",
    "\n",
    "<center style=\"padding: 20px\"><h2>\n",
    "$ \\frac{\\hat{U}_f}{R+j \\omega L +\\frac{1}{j \\omega C}} = \\hat{I} $\n",
    "</h2></center>\n",
    "\n",
    "Para esse circuito, a corrente máxima acontece quando *$j\\omega L = - \\frac{1}{j \\omega C}$*, já que dessa forma as impedâncias do capacitor e do indutor se cancelam<br>\n",
    "Fazendo manipulações algébricas, fica fácil de provar que a frequência angular de ressonância é dada por:\n",
    "<center style=\"padding: 20px\"><h2>\n",
    "$\\omega_{res} = \\frac{1}{\\sqrt{LC}}$\n",
    "</h2></center>\n",
    "\n",
    "Através de manipulação algébrica, descobre-se a frequência de ressonância de um sistema RLC\n",
    "<center style=\"padding: 20px\"><h2>\n",
    "$f_{res} = \\frac{1}{2\\pi\\sqrt{LC}}$\n",
    "</h2></center>\n",
    "\n",
    "## Parte 2 - Código do Módulo Numérico"
   ]
  },
  {
   "cell_type": "markdown",
   "metadata": {},
   "source": [
    "Imports dos módulos"
   ]
  },
  {
   "cell_type": "code",
   "execution_count": 46,
   "metadata": {},
   "outputs": [],
   "source": [
    "from cmath import *\n",
    "from numpy import linalg\n",
    "import numpy as np\n",
    "import matplotlib.pyplot as plt"
   ]
  },
  {
   "cell_type": "markdown",
   "metadata": {},
   "source": [
    "Variáveis do Transformador"
   ]
  },
  {
   "cell_type": "code",
   "execution_count": 47,
   "metadata": {},
   "outputs": [],
   "source": [
    "# Parâmetro medidos da bobina real\n",
    "R1 = 0.455\n",
    "R2 = 0.455\n",
    "L1 = 296.6e-6 \n",
    "L2 = 296.6e-6\n",
    "# Capacitor disponível no lab escolhido para análise\n",
    "C1 = 1e-6\n",
    "C2 = 1e-6\n",
    "\n",
    "# Frequência de ressonância, segundo equações apresentadas anteriormente\n",
    "w = 1/sqrt(L1*C1)\n",
    "f = 1/(2*pi*sqrt(L1*C1))\n",
    "# Parâmetro k escolhido\n",
    "k = 0.1\n",
    "\n",
    "# Cálculo das Impedâncias\n",
    "XL1 = 1j*w*L1\n",
    "XL2 = 1j*w*L2\n",
    "XC1 =1 /(1j*w*C1)\n",
    "XC2 =1 /(1j*w*C2)\n",
    "M = k*sqrt(L1*L2)\n",
    "XM = 1j*w*M\n",
    "Uf = 5"
   ]
  },
  {
   "cell_type": "code",
   "execution_count": 48,
   "metadata": {},
   "outputs": [],
   "source": [
    "def CalcularTransformador(V1, Rc):\n",
    "    \"\"\"\n",
    "    Calcula as correntes do circuito a partir dos parâmetros no primário e no secundário\n",
    "    \n",
    "    Parâmetros:\n",
    "     - V1: Tensão de alimentação do primário\n",
    "     - Rc: Resistência da Carga\n",
    "    \"\"\"\n",
    "    Z=np.array([[R1+XL1+XC1, -XM],[-XM, XL2+R2+((Rc*XC2)/(Rc+XC2))]])\n",
    "    V=np.array([V1,0])\n",
    "    I=np.dot(linalg.inv(Z),V)\n",
    "    return I[0], I[1]"
   ]
  },
  {
   "cell_type": "code",
   "execution_count": 49,
   "metadata": {},
   "outputs": [],
   "source": [
    "def S(V:complex, I:complex):\n",
    "    \"\"\"\n",
    "    Calcula a potência total S do componente/sistema\n",
    "\n",
    "    Parâmetros:\n",
    "     - V: Tensão que passa no componente/sistema\n",
    "     - I: Corrente que passa no componente/sistema\n",
    "     - Z: Impedância local\n",
    "    \"\"\"\n",
    "\n",
    "    Vpico = abs(V)\n",
    "    Ipico = abs(I)\n",
    "    Veficaz = Vpico/sqrt(2)\n",
    "    Ieficaz = I/sqrt(2)\n",
    "    Ief_conj = Ieficaz.conjugate()\n",
    "\n",
    "    S = Veficaz*Ief_conj\n",
    "\n",
    "    return S"
   ]
  },
  {
   "cell_type": "code",
   "execution_count": null,
   "metadata": {
    "scrolled": true
   },
   "outputs": [],
   "source": [
    "# Tensão de alimentação a partir do PWM\n",
    "Uf = 2/pi*20\n",
    "Rc = 10\n",
    "\n",
    "#A função calcula as duas correntes\n",
    "i1, i2 = CalcularTransformador(Uf, Rc)\n",
    "\n",
    "#Com as correntes, é possível calcular o V2 \n",
    "V2 = ((XC2*Rc)/(XC2+Rc)) * i2\n",
    "\n",
    "#Potência \n",
    "S2=S(V2,i2)\n",
    "\n",
    "print(\"Corrente no primario (i1)          --> {0:.5f} A\".format(abs(i1)))\n",
    "print(\"Corrente no secundário (i2)        --> {0:.5f} A\".format(abs(i2)))\n",
    "print(\"Tensão no secundário (V2)          --> {0:.5f} V\".format(abs(V2)))\n",
    "print(\"Potência eficaz (S2ef)             --> {0:.5f} W\".format(S2.real))\n",
    "print(\"Frequência de ressonância (f)      --> {0:.5f} Hz\".format(f.real))"
   ]
  },
  {
   "cell_type": "markdown",
   "metadata": {},
   "source": [
    "Nessa simulação, percebemos que a frequência de ressonância, que maximiza a potência nos dois lados do transformador, gira em torno de $9,2kH$"
   ]
  },
  {
   "cell_type": "markdown",
   "metadata": {},
   "source": [
    "## Parte 3: Construção de gráficos de I1 e I2 em função da frequência:"
   ]
  },
  {
   "cell_type": "markdown",
   "metadata": {},
   "source": [
    "Para essa sub-etapa, busca-se plotar os módulos das correntes no primário e no secundário (I1 e I2) para um valor de coeficiente de acoplamento inicialmente fixo (nesse caso, utilizou-se $k = 0.1$) e, em seguida, variá-lo. Essa etapa busca responder a duas perguntas:\n",
    "1) A frequência para a qual as correntes são máximas é coincidente com a frequência de ressonância que vocês obtiveram na atividade 1? <br>\n",
    "2) O que acontece com os gráficos dos módulos das correntes quandose altera o 𝑘 do circuito? "
   ]
  },
  {
   "cell_type": "markdown",
   "metadata": {},
   "source": [
    "### Para um valor de k fixo"
   ]
  },
  {
   "cell_type": "code",
   "execution_count": null,
   "metadata": {},
   "outputs": [],
   "source": [
    "# Função utilizada para modelar as correntes I1 e I2 com f variante\n",
    "def ListaI1I2(lista_f,k):\n",
    "    I1=[]\n",
    "    I2=[]\n",
    "    for f in lista_f:\n",
    "        M = k*sqrt(L1*L2)\n",
    "        w = 2*pi*f\n",
    "        XL1 = 1j * w * L1\n",
    "        XL2 = 1j * w * L2\n",
    "        XM = 1j * w * M\n",
    "        XC1 = 1/(1j*w*C1)\n",
    "        XC2 = 1/(1j*w*C2)\n",
    "\n",
    "        Z=np.array([[R1+XL1+XC1, -XM],[-XM, XL2+R2+(Rc*XC2)/(Rc+XC2)]])\n",
    "        V=np.array([Uf,0])\n",
    "        I=np.dot(linalg.inv(Z),V)\n",
    "       \n",
    "        I1.append(abs(I[0]))\n",
    "        I2.append(abs(I[1]))\n",
    "\n",
    "    return I1,I2"
   ]
  },
  {
   "cell_type": "code",
   "execution_count": null,
   "metadata": {},
   "outputs": [],
   "source": [
    "lista_f = np.arange(100,60e3,10)\n",
    "k = 0.1\n",
    "\n",
    "plt.figure(figsize=(15,8))\n",
    "I1, I2 = ListaI1I2(lista_f,k)\n",
    "plt.plot(lista_f,I1,label=\"k = {0:.1f}\".format(k))\n",
    "plt.title(\" Corrente I1 em Função da Frequência p/ k=0.1\")\n",
    "plt.xlabel(\" Frequências [Hz]\")\n",
    "plt.ylabel(\" Corrente I1 [A]\")\n",
    "plt.xlim([0,20000])\n",
    "\n",
    "plt.figure(figsize=(15,8))\n",
    "I1, I2 = ListaI1I2(lista_f,k)\n",
    "plt.plot(lista_f,I2,label=\"k = {0:.1f}\".format(k))\n",
    "plt.title(\" Corrente I2 em Função da Frequência p/ k=0.1\")\n",
    "plt.xlabel(\" Frequências [Hz]\")\n",
    "plt.ylabel(\" Corrente I2 [A]\")\n",
    "plt.xlim([0,20000])\n"
   ]
  },
  {
   "cell_type": "code",
   "execution_count": null,
   "metadata": {},
   "outputs": [],
   "source": [
    "# Achando a frequência I1 e I2\n",
    "print(f'A frequência máxima atingida é {max(I1)} para I1 e {max(I2)} para I2, encontrados sob uma frequência de {lista_f[I2.index(max(I2))]}Hz')"
   ]
  },
  {
   "cell_type": "markdown",
   "metadata": {},
   "source": [
    "O gráfico acima nos permite concluir que, para um $k=0.1$, o valor de frequência que maximiza as correntes coincide com o valor teórico da frequência de ressonância ($9290Hz$ e $9241.33169Hz$, respectivamente)"
   ]
  },
  {
   "cell_type": "markdown",
   "metadata": {},
   "source": [
    "### Para valores de k variáveis"
   ]
  },
  {
   "cell_type": "code",
   "execution_count": null,
   "metadata": {},
   "outputs": [],
   "source": [
    "lista_k = np.arange(0,1,0.1)\n",
    "picosI1=[]\n",
    "\n",
    "plt.figure(figsize=(15,8))\n",
    "for k in lista_k:\n",
    "    I1, I2 = ListaI1I2(lista_f,k)\n",
    "    maximo=max(I1)\n",
    "    picosI1.append(maximo)\n",
    "    plt.plot(lista_f,I1,label=\"k = {0:.1f}\".format(k))\n",
    "    plt.title(\" Corrente I1 em Função da Frequência\")\n",
    "    plt.xlabel(\" Frequências [Hz]\")\n",
    "    plt.ylabel(\" Corrente I1 [A]\")\n",
    "    plt.legend()\n",
    "\n",
    "plt.xlim([0, 40000])\n",
    "plt.grid()\n",
    "plt.show() \n",
    "picosI2=[]\n",
    "\n",
    "plt.figure(figsize=(15,8))\n",
    "for k in lista_k:\n",
    "    I1, I2 = ListaI1I2(lista_f,k)\n",
    "    maximo=max(I2)\n",
    "    picosI2.append(maximo)\n",
    "    plt.plot(lista_f,I2,label=\"k = {0:.1f}\".format(k))\n",
    "    plt.title(\" Corrente I2 em Função da Frequência\")\n",
    "    plt.xlabel(\" Frequências [Hz]\")\n",
    "    plt.ylabel(\" Corrente I2 [A]\")\n",
    "    plt.legend()\n",
    "    \n",
    "plt.xlim([0, 40000])\n",
    "plt.grid()\n",
    "plt.show() "
   ]
  },
  {
   "cell_type": "markdown",
   "metadata": {},
   "source": [
    "Observa-se que para valores de $k$ pequenos, em torno de 0.1, o valor da corrente é máximo quando a frequência é em torno de $9.000Hz$, coincidindo com a frequência de ressonância calculada. Contudo, conforme o coeficiente de acoplamento (k) cresce, também cresce o valor da frequência que maximiza a corrente."
   ]
  },
  {
   "cell_type": "markdown",
   "metadata": {},
   "source": [
    "Gráfico de Picos da Corrente Î1"
   ]
  },
  {
   "cell_type": "code",
   "execution_count": null,
   "metadata": {},
   "outputs": [],
   "source": [
    "plt.figure(figsize=(15,8))\n",
    "plt.plot(lista_k,picosI1,\"o\")\n",
    "plt.title(\"Picos da Corrente I1 x k \")\n",
    "plt.xlabel(\"K\")\n",
    "plt.ylabel(\"Corrente I1 [A]\")\n",
    "plt.grid()\n",
    "plt.show()"
   ]
  },
  {
   "cell_type": "markdown",
   "metadata": {},
   "source": [
    "Gráfico de Picos da Corrente Î2"
   ]
  },
  {
   "cell_type": "code",
   "execution_count": null,
   "metadata": {},
   "outputs": [],
   "source": [
    "plt.figure(figsize=(15,8))\n",
    "plt.plot(lista_k,picosI2,\"o\")\n",
    "plt.title(\"Picos da Corrente I2 x k \")\n",
    "plt.xlabel(\"K\")\n",
    "plt.ylabel(\"Corrente I2 [A]\")\n",
    "plt.grid()\n",
    "plt.show()"
   ]
  },
  {
   "cell_type": "markdown",
   "metadata": {},
   "source": [
    "## Parte 4: Construção de gráficos das potências e da eficiência em função da frequência"
   ]
  },
  {
   "cell_type": "markdown",
   "metadata": {},
   "source": [
    "Essa parte tem por objetivo a construção de 3 gráficos:\n",
    " - Gráfico 1: Potência real de entrada em função da frequência da fonte <br>\n",
    " - Gráfico 2: Potência real de saída em função da frequência da fonte <br>\n",
    " - Gráfico 3: Eficiência em função da frequência da fonte"
   ]
  },
  {
   "cell_type": "markdown",
   "metadata": {},
   "source": [
    "### 1: Gráfico da Potencia S1 em Funcão da Frequência"
   ]
  },
  {
   "cell_type": "code",
   "execution_count": null,
   "metadata": {},
   "outputs": [],
   "source": [
    "def ListaI1I2S1S2(lista_f,lista_k):\n",
    "    I1=[]\n",
    "    I2=[]\n",
    "    S1=[]\n",
    "    S2=[]\n",
    "    for f in lista_f:\n",
    "        M = lista_k*sqrt(L1*L2)\n",
    "        w = 2*pi*f\n",
    "        XL1 = 1j * w * L1\n",
    "        XL2 = 1j * w * L2\n",
    "        XM = 1j * w * M\n",
    "        XC1 = 1/(1j*w*C1)\n",
    "        XC2 = 1/(1j*w*C2)\n",
    "\n",
    "        Z=np.array([[R1+XL1+XC1, -XM],[-XM, XL2+R2+(Rc*XC2)/(Rc+XC2)]])\n",
    "        V=np.array([Uf,0])\n",
    "        I=np.dot(linalg.inv(Z),V)\n",
    "        \n",
    "        i1,i2=I[0],I[1]\n",
    "        \n",
    "        Zeq=(Rc*XC2)/(Rc+XC2)\n",
    "        \n",
    "        V2 = i2 * Zeq\n",
    "        \n",
    "        IRc = V2/Rc\n",
    "        \n",
    "        S1ef = (Uf * i1.conjugate())/2\n",
    "        S2ef = (V2 * IRc.conjugate())/2\n",
    "\n",
    "       \n",
    "        I1.append(abs(i1))\n",
    "        I2.append(abs(i2))\n",
    "        S1.append(S1ef.real)\n",
    "        S2.append(S2ef.real)\n",
    "        \n",
    "\n",
    "    return I1,I2,S1,S2\n",
    "\n"
   ]
  },
  {
   "cell_type": "code",
   "execution_count": null,
   "metadata": {},
   "outputs": [],
   "source": [
    "plt.figure(figsize=(15,8))\n",
    "picosS1=[]\n",
    "for k in lista_k:\n",
    "    I1, I2, S1ef, S2ef = ListaI1I2S1S2(lista_f,k)\n",
    "    maximo=max(S1ef)\n",
    "    picosS1.append(maximo)\n",
    "    plt.plot(lista_f,S1ef,label=\"k = {0:.1f}\".format(k))\n",
    "    plt.title(\" Potência Eficaz S1 em Função da Frequência\")\n",
    "    plt.xlabel(\" Frequências [Hz]\")\n",
    "    plt.ylabel(\" Potência S1 [W]\")\n",
    "    plt.legend()\n",
    "\n",
    "ax=plt.gca()\n",
    "ax.set_xlim([500, 32000])\n",
    "plt.grid()\n",
    "plt.show() "
   ]
  },
  {
   "cell_type": "code",
   "execution_count": null,
   "metadata": {},
   "outputs": [],
   "source": [
    "plt.figure(figsize=(15,8))\n",
    "plt.plot(lista_k,picosS1,\"o\")\n",
    "plt.title(\"Picos da Potência S1 x k \")\n",
    "plt.xlabel(\"K\")\n",
    "plt.ylabel(\"Potência S1 [W]\")\n",
    "plt.grid()\n",
    "plt.show()"
   ]
  },
  {
   "cell_type": "markdown",
   "metadata": {},
   "source": [
    "### 2: Gráfico da Potencia S2 em Funcão da Frequência"
   ]
  },
  {
   "cell_type": "code",
   "execution_count": null,
   "metadata": {},
   "outputs": [],
   "source": [
    "plt.figure(figsize=(15,8))\n",
    "picosS2=[]\n",
    "for k in lista_k:\n",
    "    I1, I2, S1ef, S2ef = ListaI1I2S1S2(lista_f,k)\n",
    "    maximo=max(S2ef)\n",
    "    picosS2.append(maximo)\n",
    "    plt.plot(lista_f,S2ef,label=\"k = {0:.1f}\".format(k))\n",
    "    plt.title(\" Potência Eficaz S2 em Função da Frequência\")\n",
    "    plt.xlabel(\" Frequências [Hz]\")\n",
    "    plt.ylabel(\" Potência S2 [W]\")\n",
    "    plt.legend()\n",
    "\n",
    "ax=plt.gca()\n",
    "ax.set_xlim([0, 2e4])\n",
    "plt.grid()\n",
    "plt.show() "
   ]
  },
  {
   "cell_type": "code",
   "execution_count": null,
   "metadata": {},
   "outputs": [],
   "source": [
    "plt.figure(figsize=(15,8))\n",
    "plt.plot(lista_k,picosS2,\"o\")\n",
    "plt.title(\"Picos da Potência S2 x k \")\n",
    "plt.xlabel(\"K\")\n",
    "plt.ylabel(\"Potência S2 [W]\")\n",
    "plt.grid()\n",
    "plt.show()\n",
    "print(picosS2)"
   ]
  },
  {
   "cell_type": "markdown",
   "metadata": {},
   "source": [
    "Gráfico de V2 por valores de K"
   ]
  },
  {
   "cell_type": "code",
   "execution_count": null,
   "metadata": {},
   "outputs": [],
   "source": [
    "espacos = np.arange(0,1, 0.01)\n",
    "V2 = []\n",
    "plt.figure(figsize=(15,8))\n",
    "for k in espacos:\n",
    "    M = k*sqrt(L1*L2)\n",
    "    XM = 1j * w * M\n",
    "    \n",
    "    i1, i2 = CalcularTransformador(Uf, Rc)\n",
    "    zeq=(XC2*Rc)/(XC2+Rc)\n",
    "    v2 = zeq * i2\n",
    "    V2.append(abs(v2))\n",
    "    \n",
    "plt.plot(espacos,V2)\n",
    "plt.title(\"V2 x K\")\n",
    "plt.xlabel(\"Valores de K\")\n",
    "plt.ylabel(\"V2 [Volts]\")\n",
    "plt.grid()\n",
    "plt.show()"
   ]
  },
  {
   "cell_type": "markdown",
   "metadata": {},
   "source": [
    "Gráfico de Eficiencia"
   ]
  },
  {
   "cell_type": "code",
   "execution_count": null,
   "metadata": {},
   "outputs": [],
   "source": [
    "plt.figure(figsize=(15,8))\n",
    "\n",
    "for k in lista_k:\n",
    "    I1, I2, S1ef, S2ef = ListaI1I2S1S2(lista_f,k)\n",
    "    rendimento=[]\n",
    "    for i in range(len(S2ef)):\n",
    "        n = S2ef[i]/S1ef[i]\n",
    "        rendimento.append(n)\n",
    "    plt.plot(lista_f,rendimento,label=\"k = {0:.1f}\".format(k))\n",
    "    plt.title(\" Eficiencia x Frequencia\")\n",
    "    plt.xlabel(\" Frequências [Hz]\")\n",
    "    plt.ylabel(\" Eficiencia\")\n",
    "    plt.legend()\n",
    "\n",
    "plt.grid()\n",
    "plt.show() "
   ]
  },
  {
   "cell_type": "code",
   "execution_count": null,
   "metadata": {},
   "outputs": [],
   "source": [
    "# for i in lista_k"
   ]
  },
  {
   "cell_type": "markdown",
   "metadata": {},
   "source": [
    "Esse último gráfico comprova que"
   ]
  },
  {
   "cell_type": "code",
   "execution_count": 63,
   "metadata": {},
   "outputs": [],
   "source": [
    "def calculaC(f):\n",
    "    C = 1/(L1*4*pi**2*f**2)\n",
    "    return C"
   ]
  },
  {
   "cell_type": "code",
   "execution_count": 64,
   "metadata": {},
   "outputs": [
    {
     "name": "stdout",
     "output_type": "stream",
     "text": [
      "[(4250.0, 4.7e-06), (4260.0, 4.7e-06), (4270.0, 4.7e-06), (4280.0, 4.7e-06), (9200.0, 1e-06), (9210.0, 1e-06), (9220.0, 1e-06), (9230.0, 1e-06), (9240.0, 1e-06), (9250.0, 1e-06), (9260.0, 1e-06), (9270.0, 1e-06), (9280.0, 1e-06), (13420.0, 4.7e-07), (13430.0, 4.7e-07), (13440.0, 4.7e-07), (13450.0, 4.7e-07), (13460.0, 4.7e-07), (13470.0, 4.7e-07), (13480.0, 4.7e-07), (13490.0, 4.7e-07), (13500.0, 4.7e-07), (13510.0, 4.7e-07), (13520.0, 4.7e-07), (13530.0, 4.7e-07), (13540.0, 4.7e-07), (23750.0, 1.5e-07), (23760.0, 1.5e-07), (23770.0, 1.5e-07), (23780.0, 1.5e-07), (23790.0, 1.5e-07), (23800.0, 1.5e-07), (23810.0, 1.5e-07), (23820.0, 1.5e-07), (23830.0, 1.5e-07), (23840.0, 1.5e-07), (23850.0, 1.5e-07), (23860.0, 1.5e-07), (23870.0, 1.5e-07), (23880.0, 1.5e-07), (23890.0, 1.5e-07), (23900.0, 1.5e-07), (23910.0, 1.5e-07), (23920.0, 1.5e-07), (23930.0, 1.5e-07), (23940.0, 1.5e-07), (23950.0, 1.5e-07), (23960.0, 1.5e-07), (23970.0, 1.5e-07), (23980.0, 1.5e-07), (29080.0, 1e-07), (29090.0, 1e-07), (29100.0, 1e-07), (29110.0, 1e-07), (29120.0, 1e-07), (29130.0, 1e-07), (29140.0, 1e-07), (29150.0, 1e-07), (29160.0, 1e-07), (29170.0, 1e-07), (29180.0, 1e-07), (29190.0, 1e-07), (29200.0, 1e-07), (29210.0, 1e-07), (29220.0, 1e-07), (29230.0, 1e-07), (29240.0, 1e-07), (29250.0, 1e-07), (29260.0, 1e-07), (29270.0, 1e-07), (29280.0, 1e-07), (29290.0, 1e-07), (29300.0, 1e-07), (29310.0, 1e-07), (29320.0, 1e-07), (29330.0, 1e-07), (29340.0, 1e-07), (29350.0, 1e-07), (29360.0, 1e-07), (29370.0, 1e-07)]\n"
     ]
    }
   ],
   "source": [
    "Freslist = []\n",
    "Capacitors=[0.1e-6, 150e-9, 1e-6, 4.7e-6, 0.47e-6]\n",
    "lista_f = np.arange(100,60e3,10)\n",
    "for i in lista_f:\n",
    "    capacitor = calculaC(i)\n",
    "    for j in Capacitors:\n",
    "        if 0.99*j < capacitor < 1.01*j:\n",
    "            Freslist.append((i, j))\n",
    "print(Freslist)"
   ]
  },
  {
   "cell_type": "code",
   "execution_count": 66,
   "metadata": {},
   "outputs": [],
   "source": [
    "def calculaTudo(f, C, k):\n",
    "    I1=[]\n",
    "    I2=[]\n",
    "    S1=[]\n",
    "    S2=[]\n",
    "    \n",
    "    M = k*sqrt(L1*L2)\n",
    "    w = 2*pi*f\n",
    "    XL1 = 1j * w * L1\n",
    "    XL2 = 1j * w * L2\n",
    "    XM = 1j * w * M\n",
    "    XC1 = 1/(1j*w*C1)\n",
    "    XC2 = 1/(1j*w*C2)\n",
    "\n",
    "    Z=np.array([[R1+XL1+XC1, -XM],[-XM, XL2+R2+(Rc*XC2)/(Rc+XC2)]])\n",
    "    V=np.array([Uf,0])\n",
    "    I=np.dot(linalg.inv(Z),V)\n",
    "        \n",
    "    i1,i2=I[0],I[1]\n",
    "\n",
    "    Zeq=(Rc*XC2)/(Rc+XC2)\n",
    "\n",
    "    V2 = i2 * Zeq\n",
    "\n",
    "    IRc = V2/b\n",
    "\n",
    "    S1ef = (Uf * i1.conjugate())/2\n",
    "    S2ef = (V2 * IRc.conjugate())/2\n",
    "\n",
    "\n",
    "    I1.append(abs(i1))\n",
    "    I2.append(abs(i2))\n",
    "    S1.append(S1ef.real)\n",
    "    S2.append(S2ef.real)\n",
    "\n",
    "\n",
    "    return I1,I2,S1,S2"
   ]
  },
  {
   "cell_type": "code",
   "execution_count": 91,
   "metadata": {
    "tags": []
   },
   "outputs": [
    {
     "name": "stdout",
     "output_type": "stream",
     "text": [
      "[4250.0, 4.7e-06, [0.1691507870751098], [0.011968869058068597], [0.007210410853958675], [0.0006685931636739045]]\n",
      "[4250.0, 4.7e-06, [0.16866931569451485], [0.023869601656246058], [0.009261013961868037], [0.0026591696354989775]]\n",
      "[4250.0, 4.7e-06, [0.16786403333224031], [0.03563346058131032], [0.012625574776681019], [0.005926137213779461]]\n",
      "[4250.0, 4.7e-06, [0.16673130963001784], [0.047190681104093336], [0.017224633443287715], [0.010393652469650641]]\n",
      "[4250.0, 4.7e-06, [0.16526724470613832], [0.05847037562400492], [0.022947667085797662], [0.015956126393668293]]\n",
      "[4250.0, 4.7e-06, [0.16346874130364783], [0.06940089349564313], [0.02965446917456043], [0.022479457375743632]]\n",
      "[4250.0, 4.7e-06, [0.1613347243203917], [0.07991070903720045], [0.03717771501456753], [0.029803390172509513]]\n",
      "[4250.0, 4.7e-06, [0.15886739107649991], [0.0899298446916372], [0.04532706009831468], [0.03774534393044439]]\n",
      "[4250.0, 4.7e-06, [0.15607336010425105], [0.09939176036703756], [0.05389495349376835], [0.046105895907665395]]\n",
      "[4260.0, 4.7e-06, [0.15650973322672435], [0.0998682955565191], [0.05437616468442045], [0.04653447331507575]]\n",
      "[4270.0, 4.7e-06, [0.15694617856224855], [0.1003457182139039], [0.05486025740294927], [0.04696569660856595]]\n",
      "[4280.0, 4.7e-06, [0.15738269115951511], [0.10082402259000638], [0.055347234655170524], [0.04739956879088659]]\n",
      "[9200.0, 1e-06, [7.775041064649545], [0.8840572561544494], [16.85952256990597], [2.929055840375238]]\n",
      "[9200.0, 1e-06, [4.199328452492836], [0.9549651914460887], [7.637050375737115], [3.417763037837493]]\n",
      "[9210.0, 1e-06, [4.287493377312884], [0.9753181623205585], [7.961508322421786], [3.5630585898689593]]\n",
      "[9220.0, 1e-06, [4.376964904889791], [0.9959795304882464], [8.297673605050239], [3.71359478668836]]\n",
      "[9230.0, 1e-06, [4.467522952826871], [1.0168993944495335], [8.644998505202812], [3.8691261056166253]]\n",
      "[9240.0, 1e-06, [4.558904239387967], [1.038017952949693], [9.00269894255211], [4.029301164440745]]\n",
      "[9250.0, 1e-06, [4.650798403271748], [1.0592646069168146], [9.369719720289535], [4.193647160599303]]\n",
      "[9260.0, 1e-06, [4.742844511173189], [1.0805571483401002], [9.744699756494104], [4.361554305175345]]\n",
      "[9270.0, 1e-06, [4.834628212854147], [1.1018010954901176], [10.125939025152604], [4.532261023752819]]\n",
      "[9280.0, 1e-06, [4.9256798525954535], [1.1228892452261068], [10.511369440215343], [4.704840924402494]]\n"
     ]
    }
   ],
   "source": [
    "ultima_lista = []\n",
    "for f, C in Freslist:\n",
    "    for k in lista_k:\n",
    "        I1, I2, S1ef, S2ef = calculaTudo(f, C, k)\n",
    "        ultima_lista.append([f, C, I1, I2, S1ef, S2ef])\n",
    "maximo = 0\n",
    "for e in ultima_lista:\n",
    "    if e[5][0]>maximo:\n",
    "        maximo = e[5][0]\n",
    "        print(e)"
   ]
  },
  {
   "cell_type": "code",
   "execution_count": null,
   "metadata": {},
   "outputs": [],
   "source": []
  }
 ],
 "metadata": {
  "interpreter": {
   "hash": "35ffa6d000ac0e1b378f1e0ff7abb993d9694bfb34f00dbc4a4e4f244d44a61e"
  },
  "kernelspec": {
   "display_name": "Python 3 (ipykernel)",
   "language": "python",
   "name": "python3"
  },
  "language_info": {
   "codemirror_mode": {
    "name": "ipython",
    "version": 3
   },
   "file_extension": ".py",
   "mimetype": "text/x-python",
   "name": "python",
   "nbconvert_exporter": "python",
   "pygments_lexer": "ipython3",
   "version": "3.9.7"
  }
 },
 "nbformat": 4,
 "nbformat_minor": 4
}
