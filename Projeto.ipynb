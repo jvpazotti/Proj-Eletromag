{
 "cells": [
  {
   "cell_type": "markdown",
   "metadata": {},
   "source": [
    "Projeto Eletromag Etapa 1"
   ]
  },
  {
   "cell_type": "code",
   "execution_count": null,
   "metadata": {},
   "outputs": [],
   "source": [
    "Imports dos módulos"
   ]
  },
  {
   "cell_type": "code",
   "execution_count": 99,
   "metadata": {},
   "outputs": [],
   "source": [
    "from cmath import *\n",
    "from numpy import linalg\n",
    "import numpy as np\n",
    "import matplotlib.pyplot as plt\n",
    "import peakutils"
   ]
  },
  {
   "cell_type": "markdown",
   "metadata": {},
   "source": [
    "Variáveis do Transformador"
   ]
  },
  {
   "cell_type": "code",
   "execution_count": 100,
   "metadata": {},
   "outputs": [],
   "source": [
    "R1 = 0.5\n",
    "R2 = 0.5\n",
    "L1 = 300e-3\n",
    "L2 = 300e-3\n",
    "C1 = 1e-6\n",
    "C2 = 1e-6\n",
    "w=1/sqrt(L1*C1)\n",
    "k = 0.1\n",
    "f = 1/(2*pi*sqrt(L1*C1))"
   ]
  },
  {
   "cell_type": "code",
   "execution_count": 101,
   "metadata": {},
   "outputs": [],
   "source": [
    "XL1 = 1j*w*L1\n",
    "XL2 = 1j*w*L2\n",
    "XC1=1/(1j*w*C1)\n",
    "XC2=1/(1j*w*C2)\n",
    "M = k*sqrt(L1*L2)\n",
    "XM = 1j*w*M\n",
    "Uf = 10"
   ]
  },
  {
   "cell_type": "code",
   "execution_count": 102,
   "metadata": {},
   "outputs": [],
   "source": [
    "def CalcularTransformador(V1, Rc):\n",
    "    Z=np.array([[R1+XL1+XC1, -XM],[-XM, XL2+R2+((Rc*XC2)/(Rc+XC2))]])\n",
    "    V=np.array([V1,0])\n",
    "    I=np.dot(linalg.inv(Z),V)\n",
    "    return I[0], I[1]"
   ]
  },
  {
   "cell_type": "code",
   "execution_count": 103,
   "metadata": {},
   "outputs": [],
   "source": [
    "def S(V:complex, I:complex):\n",
    "    \"\"\"\n",
    "    Calcula a potência total S do componente/sistema\n",
    "\n",
    "    Parâmetros:\n",
    "    - V: Tensão que passa no componente/sistema\n",
    "    - I: Corrente que passa no componente/sistema\n",
    "    - Z: Impedância local\n",
    "    \"\"\"\n",
    "\n",
    "    Vpico = abs(V)\n",
    "    Ipico = abs(I)\n",
    "    Veficaz = Vpico/sqrt(2)\n",
    "    Ieficaz = I/sqrt(2)\n",
    "    Ief_conj = Ieficaz.conjugate()\n",
    "\n",
    "    # print(f'Vef = {prettyPolar(Veficaz)}')\n",
    "    # print(f'Ief = {prettyPolar(Ieficaz)}')\n",
    "    # print(f'Ief_conj = {prettyPolar(Ief_conj)}')\n",
    "\n",
    "\n",
    "    S = Veficaz*Ief_conj\n",
    "\n",
    "    return S"
   ]
  },
  {
   "cell_type": "code",
   "execution_count": 104,
   "metadata": {},
   "outputs": [
    {
     "name": "stdout",
     "output_type": "stream",
     "text": [
      "Corrente no primario (i1)          --> 1.81477 A\n",
      "Corrente no secundário (i2)        --> 0.18150 A\n",
      "Tensão no secundário (V2)          --> 1.81474 V\n",
      "Potência eficaz (S2ef)             --> 0.01494 W\n",
      "Frequência de ressonância (f)      --> 290.57584 Hz\n"
     ]
    }
   ],
   "source": [
    "Uf = 10\n",
    "Rc = 10\n",
    "\n",
    "#A função calcula as duas correntes\n",
    "i1, i2 = CalcularTransformador(Uf, Rc)\n",
    "\n",
    "\n",
    "#Com as correntes, é possível calcular o V2 \n",
    "V2 = ((XC2*Rc)/(XC2+Rc)) * i2\n",
    "\n",
    "#Potência \n",
    "\n",
    "S2=S(V2,i2)\n",
    "\n",
    "\n",
    "print(\"Corrente no primario (i1)          --> {0:.5f} A\".format(abs(i1)))\n",
    "print(\"Corrente no secundário (i2)        --> {0:.5f} A\".format(abs(i2)))\n",
    "print(\"Tensão no secundário (V2)          --> {0:.5f} V\".format(abs(V2)))\n",
    "print(\"Potência eficaz (S2ef)             --> {0:.5f} W\".format(S2.real))\n",
    "print(\"Frequência de ressonância (f)      --> {0:.5f} Hz\".format(f.real))\n"
   ]
  },
  {
   "cell_type": "markdown",
   "metadata": {},
   "source": [
    "Gráfico de Î1 e Î2 em função da frequência"
   ]
  },
  {
   "cell_type": "code",
   "execution_count": 108,
   "metadata": {},
   "outputs": [
    {
     "data": {
      "image/png": "[encoded data removed]",
      "text/plain": [
       "<Figure size 432x288 with 1 Axes>"
      ]
     },
     "metadata": {
      "needs_background": "light"
     },
     "output_type": "display_data"
    },
    {
     "name": "stdout",
     "output_type": "stream",
     "text": [
      "[]\n"
     ]
    }
   ],
   "source": [
    "lista_k=np.linspace(0,1,100)\n",
    "\n",
    "lista_f= np.linspace(10,100e2,1000)\n",
    "\n",
    "def ListaI1I2(lista_f,lista_k):\n",
    "    I1=[]\n",
    "    I2=[]\n",
    "    for f in lista_f:\n",
    "        \n",
    "        M = lista_k*sqrt(L1*L2)\n",
    "        w = 2*pi*f\n",
    "        XL1 = 1j * w * L1\n",
    "        XL2 = 1j * w * L2\n",
    "        XM = 1j * w * M\n",
    "        XC1 = 1/(1j*w*C1)\n",
    "        XC2 = 1/(1j*w*C2)\n",
    "\n",
    "        Z=np.array([[R1+XL1+XC1, -XM],[-XM, XL2+R2+(Rc*XC2)/(Rc+XC2)]])\n",
    "        V=np.array([Uf,0])\n",
    "        I=np.dot(linalg.inv(Z),V)\n",
    "\n",
    "       \n",
    "        I1.append(abs(I[0]))\n",
    "        I2.append(abs(I[1]))\n",
    "\n",
    "    return I1,I2\n",
    "\n",
    "for k in lista_k:\n",
    "    I1, I2 = ListaI1I2(lista_f,k)\n",
    "    plt.plot(lista_f,I1,label=\"k\")\n",
    "    plt.xlabel('Frequência (Hz)')\n",
    "    plt.ylabel('Corrente I1 (A)')\n",
    "    # plt.legend(loc=\"lower left\", ncol=5)\n",
    "    index = peakutils.indexes(np.abs(I1), thres=0.1)\n",
    "   \n",
    "    \n",
    "plt.show() \n",
    "\n",
    "print(index)\n",
    "\n"
   ]
  },
  {
   "cell_type": "code",
   "execution_count": null,
   "metadata": {},
   "outputs": [],
   "source": []
  }
 ],
 "metadata": {
  "interpreter": {
   "hash": "35ffa6d000ac0e1b378f1e0ff7abb993d9694bfb34f00dbc4a4e4f244d44a61e"
  },
  "kernelspec": {
   "display_name": "Python 3.9.7 ('base')",
   "language": "python",
   "name": "python3"
  },
  "language_info": {
   "codemirror_mode": {
    "name": "ipython",
    "version": 3
   },
   "file_extension": ".py",
   "mimetype": "text/x-python",
   "name": "python",
   "nbconvert_exporter": "python",
   "pygments_lexer": "ipython3",
   "version": "3.9.7"
  },
  "orig_nbformat": 4
 },
 "nbformat": 4,
 "nbformat_minor": 2
}
